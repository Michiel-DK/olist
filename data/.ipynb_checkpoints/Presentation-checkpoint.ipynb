{
 "cells": [
  {
   "cell_type": "markdown",
   "metadata": {
    "slideshow": {
     "slide_type": "slide"
    }
   },
   "source": [
    "## Market basket analysis"
   ]
  },
  {
   "cell_type": "markdown",
   "metadata": {
    "slideshow": {
     "slide_type": "fragment"
    }
   },
   "source": [
    "> - identifies the strength of association between pairs of products purchased together\n",
    "\n",
    "> - identify patterns of co-occurrence, two or more things take place together\n",
    "\n",
    ">> In essence it generates if -> then scenario's"
   ]
  },
  {
   "cell_type": "markdown",
   "metadata": {
    "slideshow": {
     "slide_type": "slide"
    }
   },
   "source": [
    "<h4 align=\"center\">Components of algorithm</h4>\n",
    "<hr>\n",
    "<div style=\"text-align: center\"> Support </div>\n",
    "<hr>\n",
    "<div style=\"text-align: center\"> Confidence</div>\n",
    "<hr>\n",
    "<div style=\"text-align: center\"> Lift</div>\n",
    "<hr>"
   ]
  },
  {
   "attachments": {},
   "cell_type": "markdown",
   "metadata": {
    "slideshow": {
     "slide_type": "subslide"
    }
   },
   "source": [
    "<h5 align=\"center\">A note on the metrics</h5>\n",
    "\n",
    "<div>\n",
    "<center><img src=\"itemset.png\" width=\"200\"/></center>\n",
    "</div>\n",
    "<hr>\n",
    "<div style=\"text-align: center\"> Contains antecedents and consequents, both of which are part of an itemset</div>\n",
    "<hr>\n",
    "<div style=\"text-align: center\"> Implication here is co-occurence not causality</div>"
   ]
  },
  {
   "cell_type": "markdown",
   "metadata": {
    "slideshow": {
     "slide_type": "subslide"
    }
   },
   "source": [
    "<h4 align=\"center\">Support</h4>\n",
    "<hr>\n",
    "<div style=\"text-align: center\"> How frequent is an itemset in all transactions</div>\n",
    "<hr>\n",
    "<div style=\"text-align: center\"> Used to identify rules worth analysing further </div>\n",
    "\n",
    "\n",
    "> $$ Support(X  \\cap  Y) = \\frac{Frequency(X \\cap Y)}{N (totaltransactions)} $$"
   ]
  },
  {
   "attachments": {},
   "cell_type": "markdown",
   "metadata": {
    "slideshow": {
     "slide_type": "fragment"
    }
   },
   "source": [
    "<h5 align=\"center\">Example</h5>\n",
    "\n",
    "<div>\n",
    "<center><img src=\"venn.png\" width=\"200\" align=\"center\"/></center>\n",
    "</div>\n",
    "\n",
    "<hr>\n",
    "<div style=\"text-align: center\"> Support(Toothbrush&Milk) = 10/84 = 0.12 </div>\n",
    "<hr>\n",
    "<div style=\"text-align: center\"> 12% of transactions contain both toothbrush & milk </div>"
   ]
  },
  {
   "cell_type": "markdown",
   "metadata": {
    "slideshow": {
     "slide_type": "subslide"
    }
   },
   "source": [
    "<h4 align=\"center\">Confidence</h4>\n",
    "<hr>\n",
    "<div style=\"text-align: center\"> the likeliness of consequent occuring when antecedent is present </div>\n",
    "\n",
    "\n",
    "> $$ Confidence(X \\cap Y) = \\frac{Frequency(X \\cap Y)}{Frequency(X)} $$"
   ]
  },
  {
   "attachments": {},
   "cell_type": "markdown",
   "metadata": {
    "slideshow": {
     "slide_type": "fragment"
    }
   },
   "source": [
    "<h5 align=\"center\">Example</h5>\n",
    "\n",
    "<div>\n",
    "<center><img src=\"venn.png\" width=\"200\" align=\"center\"/></center>\n",
    "</div>\n",
    "\n",
    "<hr>\n",
    "<div style=\"text-align: center\"> Confidence(Toothbrush&Milk) = 10/14 = 0.7 </div>\n",
    "<hr>\n",
    "<div style=\"text-align: center\"> Probability of having milk on the cart with the knowledge that toothbrush is present 70% </div>\n",
    "<hr>\n",
    "<div style=\"text-align: center\"> Can be misleading as we can see that there is a weak association </div>"
   ]
  },
  {
   "cell_type": "markdown",
   "metadata": {
    "slideshow": {
     "slide_type": "subslide"
    }
   },
   "source": [
    "<h4 align=\"center\">Lift</h4>\n",
    "<hr>\n",
    "<div style=\"text-align: center\"> Lift controls for the support (frequency) of consequent while calculating the conditional probability of occurrence of Y given X </div>\n",
    "\n",
    "\n",
    "> $$ Lift(X \\cap Y) = \\frac{Support(X \\cap Y)}{Support(Y)} $$\n",
    "<hr>\n",
    "<div style=\"text-align: center\"> more then 1: itemset more likely to be bought together </div>\n",
    "<hr>\n",
    "<div style=\"text-align: center\"> 1: no association </div>\n",
    "<hr>\n",
    "<div style=\"text-align: center\"> less then 1: less likely to be bought together </div>"
   ]
  },
  {
   "attachments": {},
   "cell_type": "markdown",
   "metadata": {
    "slideshow": {
     "slide_type": "subslide"
    }
   },
   "source": [
    "<h5 align=\"center\">Example</h5>\n",
    "\n",
    "<div>\n",
    "<center><img src=\"venn.png\" width=\"200\" align=\"center\"/></center>\n",
    "</div>\n",
    "<hr>\n",
    "<div style=\"text-align: center\"> Probability of having milk on the cart with the knowledge that toothbrush is present 70% </div>\n",
    "<hr>\n",
    "<div style=\"text-align: center\"> Consider the probability of having milk on the cart without any knowledge about toothbrush: 80/100 = 80% </div>\n",
    "<hr>\n",
    "<div style=\"text-align: center\"> having toothbrush on the cart actually reduces the probability of having milk on the cart to 0.7 from 0.8 </div>\n",
    "<hr>\n",
    "<div style=\"text-align: center\"> Lift(Toothbrush&Milk) = 0.7/0.8 = 0.87 </div>\n",
    "<hr>\n",
    "<div style=\"text-align: center\"> A value of lift less than 1 shows that having toothbrush on the cart does not increase the chances of occurrence of milk on the cart in spite of the rule showing a high confidence value </div>"
   ]
  },
  {
   "cell_type": "code",
   "execution_count": 1,
   "metadata": {
    "slideshow": {
     "slide_type": "skip"
    }
   },
   "outputs": [],
   "source": [
    "import pandas as pd\n",
    "import mlxtend\n",
    "from mlxtend.frequent_patterns import apriori\n",
    "from mlxtend.frequent_patterns import association_rules\n",
    "import numpy as np\n",
    "import matplotlib.pyplot as plt\n",
    "from scipy.spatial.distance import euclidean, cityblock\n",
    "import random\n",
    "import seaborn as sns"
   ]
  },
  {
   "cell_type": "code",
   "execution_count": 25,
   "metadata": {
    "slideshow": {
     "slide_type": "skip"
    }
   },
   "outputs": [],
   "source": [
    "df = pd.read_csv('data_ecom.csv')\n",
    "df = df[df['StockCode']!='POST']\n",
    "# Basket for France\n",
    "basket_france = (df[df['Country'] ==\"France\"]\n",
    "          .groupby(['InvoiceNo', 'StockCode'])['Quantity']\n",
    "          .sum().unstack().reset_index().fillna(0)\n",
    "          .set_index('InvoiceNo'))"
   ]
  },
  {
   "cell_type": "markdown",
   "metadata": {
    "slideshow": {
     "slide_type": "slide"
    }
   },
   "source": [
    "### Dataset of orders for unidentified e-com store"
   ]
  },
  {
   "cell_type": "code",
   "execution_count": 26,
   "metadata": {
    "slideshow": {
     "slide_type": "fragment"
    }
   },
   "outputs": [
    {
     "data": {
      "text/html": [
       "<div>\n",
       "<style scoped>\n",
       "    .dataframe tbody tr th:only-of-type {\n",
       "        vertical-align: middle;\n",
       "    }\n",
       "\n",
       "    .dataframe tbody tr th {\n",
       "        vertical-align: top;\n",
       "    }\n",
       "\n",
       "    .dataframe thead th {\n",
       "        text-align: right;\n",
       "    }\n",
       "</style>\n",
       "<table border=\"1\" class=\"dataframe\">\n",
       "  <thead>\n",
       "    <tr style=\"text-align: right;\">\n",
       "      <th></th>\n",
       "      <th>InvoiceNo</th>\n",
       "      <th>StockCode</th>\n",
       "      <th>Description</th>\n",
       "      <th>Quantity</th>\n",
       "      <th>InvoiceDate</th>\n",
       "      <th>UnitPrice</th>\n",
       "      <th>CustomerID</th>\n",
       "      <th>Country</th>\n",
       "    </tr>\n",
       "  </thead>\n",
       "  <tbody>\n",
       "    <tr>\n",
       "      <th>26</th>\n",
       "      <td>536370</td>\n",
       "      <td>22728</td>\n",
       "      <td>ALARM CLOCK BAKELIKE PINK</td>\n",
       "      <td>24</td>\n",
       "      <td>12/1/2010 8:45</td>\n",
       "      <td>3.75</td>\n",
       "      <td>12583.0</td>\n",
       "      <td>France</td>\n",
       "    </tr>\n",
       "    <tr>\n",
       "      <th>27</th>\n",
       "      <td>536370</td>\n",
       "      <td>22727</td>\n",
       "      <td>ALARM CLOCK BAKELIKE RED</td>\n",
       "      <td>24</td>\n",
       "      <td>12/1/2010 8:45</td>\n",
       "      <td>3.75</td>\n",
       "      <td>12583.0</td>\n",
       "      <td>France</td>\n",
       "    </tr>\n",
       "    <tr>\n",
       "      <th>28</th>\n",
       "      <td>536370</td>\n",
       "      <td>22726</td>\n",
       "      <td>ALARM CLOCK BAKELIKE GREEN</td>\n",
       "      <td>12</td>\n",
       "      <td>12/1/2010 8:45</td>\n",
       "      <td>3.75</td>\n",
       "      <td>12583.0</td>\n",
       "      <td>France</td>\n",
       "    </tr>\n",
       "    <tr>\n",
       "      <th>29</th>\n",
       "      <td>536370</td>\n",
       "      <td>21724</td>\n",
       "      <td>PANDA AND BUNNIES STICKER SHEET</td>\n",
       "      <td>12</td>\n",
       "      <td>12/1/2010 8:45</td>\n",
       "      <td>0.85</td>\n",
       "      <td>12583.0</td>\n",
       "      <td>France</td>\n",
       "    </tr>\n",
       "    <tr>\n",
       "      <th>30</th>\n",
       "      <td>536370</td>\n",
       "      <td>21883</td>\n",
       "      <td>STARS GIFT TAPE</td>\n",
       "      <td>24</td>\n",
       "      <td>12/1/2010 8:45</td>\n",
       "      <td>0.65</td>\n",
       "      <td>12583.0</td>\n",
       "      <td>France</td>\n",
       "    </tr>\n",
       "  </tbody>\n",
       "</table>\n",
       "</div>"
      ],
      "text/plain": [
       "   InvoiceNo StockCode                      Description  Quantity  \\\n",
       "26    536370     22728        ALARM CLOCK BAKELIKE PINK        24   \n",
       "27    536370     22727        ALARM CLOCK BAKELIKE RED         24   \n",
       "28    536370     22726       ALARM CLOCK BAKELIKE GREEN        12   \n",
       "29    536370     21724  PANDA AND BUNNIES STICKER SHEET        12   \n",
       "30    536370     21883                 STARS GIFT TAPE         24   \n",
       "\n",
       "       InvoiceDate  UnitPrice  CustomerID Country  \n",
       "26  12/1/2010 8:45       3.75     12583.0  France  \n",
       "27  12/1/2010 8:45       3.75     12583.0  France  \n",
       "28  12/1/2010 8:45       3.75     12583.0  France  \n",
       "29  12/1/2010 8:45       0.85     12583.0  France  \n",
       "30  12/1/2010 8:45       0.65     12583.0  France  "
      ]
     },
     "execution_count": 26,
     "metadata": {},
     "output_type": "execute_result"
    }
   ],
   "source": [
    "df_fr = df[df['Country'] ==\"France\"]\n",
    "df_fr.head()"
   ]
  },
  {
   "cell_type": "code",
   "execution_count": 27,
   "metadata": {
    "slideshow": {
     "slide_type": "fragment"
    }
   },
   "outputs": [
    {
     "name": "stdout",
     "output_type": "stream",
     "text": [
      "Total # of unique orders 448\n",
      "Total # of unique references 1542\n"
     ]
    }
   ],
   "source": [
    "print(f\"Total # of unique orders {len(df_fr['InvoiceNo'].unique())}\")\n",
    "print(f\"Total # of unique references {len(df_fr['StockCode'].unique())}\")"
   ]
  },
  {
   "cell_type": "code",
   "execution_count": 28,
   "metadata": {
    "slideshow": {
     "slide_type": "skip"
    }
   },
   "outputs": [],
   "source": [
    "def encode_units(x):\n",
    "    if x <= 0:\n",
    "        return 0\n",
    "    if x >= 1:\n",
    "        return 1"
   ]
  },
  {
   "cell_type": "markdown",
   "metadata": {
    "slideshow": {
     "slide_type": "subslide"
    }
   },
   "source": [
    "### Encoding algo"
   ]
  },
  {
   "cell_type": "code",
   "execution_count": 29,
   "metadata": {
    "slideshow": {
     "slide_type": "fragment"
    }
   },
   "outputs": [
    {
     "data": {
      "text/html": [
       "<div>\n",
       "<style scoped>\n",
       "    .dataframe tbody tr th:only-of-type {\n",
       "        vertical-align: middle;\n",
       "    }\n",
       "\n",
       "    .dataframe tbody tr th {\n",
       "        vertical-align: top;\n",
       "    }\n",
       "\n",
       "    .dataframe thead th {\n",
       "        text-align: right;\n",
       "    }\n",
       "</style>\n",
       "<table border=\"1\" class=\"dataframe\">\n",
       "  <thead>\n",
       "    <tr style=\"text-align: right;\">\n",
       "      <th>StockCode</th>\n",
       "      <th>10002</th>\n",
       "      <th>10120</th>\n",
       "      <th>10125</th>\n",
       "      <th>10135</th>\n",
       "      <th>11001</th>\n",
       "      <th>15036</th>\n",
       "      <th>15039</th>\n",
       "      <th>15044C</th>\n",
       "      <th>15056BL</th>\n",
       "      <th>15056N</th>\n",
       "      <th>...</th>\n",
       "      <th>90030B</th>\n",
       "      <th>90030C</th>\n",
       "      <th>90031</th>\n",
       "      <th>90099</th>\n",
       "      <th>90184B</th>\n",
       "      <th>90184C</th>\n",
       "      <th>90201B</th>\n",
       "      <th>90201C</th>\n",
       "      <th>C2</th>\n",
       "      <th>M</th>\n",
       "    </tr>\n",
       "    <tr>\n",
       "      <th>InvoiceNo</th>\n",
       "      <th></th>\n",
       "      <th></th>\n",
       "      <th></th>\n",
       "      <th></th>\n",
       "      <th></th>\n",
       "      <th></th>\n",
       "      <th></th>\n",
       "      <th></th>\n",
       "      <th></th>\n",
       "      <th></th>\n",
       "      <th></th>\n",
       "      <th></th>\n",
       "      <th></th>\n",
       "      <th></th>\n",
       "      <th></th>\n",
       "      <th></th>\n",
       "      <th></th>\n",
       "      <th></th>\n",
       "      <th></th>\n",
       "      <th></th>\n",
       "      <th></th>\n",
       "    </tr>\n",
       "  </thead>\n",
       "  <tbody>\n",
       "    <tr>\n",
       "      <th>536370</th>\n",
       "      <td>1</td>\n",
       "      <td>0</td>\n",
       "      <td>0</td>\n",
       "      <td>0</td>\n",
       "      <td>0</td>\n",
       "      <td>0</td>\n",
       "      <td>0</td>\n",
       "      <td>0</td>\n",
       "      <td>0</td>\n",
       "      <td>0</td>\n",
       "      <td>...</td>\n",
       "      <td>0</td>\n",
       "      <td>0</td>\n",
       "      <td>0</td>\n",
       "      <td>0</td>\n",
       "      <td>0</td>\n",
       "      <td>0</td>\n",
       "      <td>0</td>\n",
       "      <td>0</td>\n",
       "      <td>0</td>\n",
       "      <td>0</td>\n",
       "    </tr>\n",
       "    <tr>\n",
       "      <th>536852</th>\n",
       "      <td>0</td>\n",
       "      <td>0</td>\n",
       "      <td>0</td>\n",
       "      <td>0</td>\n",
       "      <td>0</td>\n",
       "      <td>0</td>\n",
       "      <td>0</td>\n",
       "      <td>0</td>\n",
       "      <td>0</td>\n",
       "      <td>0</td>\n",
       "      <td>...</td>\n",
       "      <td>0</td>\n",
       "      <td>0</td>\n",
       "      <td>0</td>\n",
       "      <td>0</td>\n",
       "      <td>0</td>\n",
       "      <td>0</td>\n",
       "      <td>0</td>\n",
       "      <td>0</td>\n",
       "      <td>0</td>\n",
       "      <td>0</td>\n",
       "    </tr>\n",
       "    <tr>\n",
       "      <th>536974</th>\n",
       "      <td>0</td>\n",
       "      <td>0</td>\n",
       "      <td>0</td>\n",
       "      <td>0</td>\n",
       "      <td>0</td>\n",
       "      <td>0</td>\n",
       "      <td>0</td>\n",
       "      <td>0</td>\n",
       "      <td>1</td>\n",
       "      <td>0</td>\n",
       "      <td>...</td>\n",
       "      <td>0</td>\n",
       "      <td>0</td>\n",
       "      <td>0</td>\n",
       "      <td>0</td>\n",
       "      <td>0</td>\n",
       "      <td>0</td>\n",
       "      <td>0</td>\n",
       "      <td>0</td>\n",
       "      <td>0</td>\n",
       "      <td>0</td>\n",
       "    </tr>\n",
       "    <tr>\n",
       "      <th>537065</th>\n",
       "      <td>0</td>\n",
       "      <td>0</td>\n",
       "      <td>0</td>\n",
       "      <td>0</td>\n",
       "      <td>0</td>\n",
       "      <td>0</td>\n",
       "      <td>0</td>\n",
       "      <td>0</td>\n",
       "      <td>0</td>\n",
       "      <td>0</td>\n",
       "      <td>...</td>\n",
       "      <td>0</td>\n",
       "      <td>0</td>\n",
       "      <td>0</td>\n",
       "      <td>0</td>\n",
       "      <td>0</td>\n",
       "      <td>0</td>\n",
       "      <td>0</td>\n",
       "      <td>0</td>\n",
       "      <td>0</td>\n",
       "      <td>0</td>\n",
       "    </tr>\n",
       "    <tr>\n",
       "      <th>537463</th>\n",
       "      <td>0</td>\n",
       "      <td>0</td>\n",
       "      <td>0</td>\n",
       "      <td>0</td>\n",
       "      <td>0</td>\n",
       "      <td>0</td>\n",
       "      <td>0</td>\n",
       "      <td>0</td>\n",
       "      <td>0</td>\n",
       "      <td>0</td>\n",
       "      <td>...</td>\n",
       "      <td>0</td>\n",
       "      <td>0</td>\n",
       "      <td>0</td>\n",
       "      <td>0</td>\n",
       "      <td>0</td>\n",
       "      <td>0</td>\n",
       "      <td>0</td>\n",
       "      <td>0</td>\n",
       "      <td>0</td>\n",
       "      <td>0</td>\n",
       "    </tr>\n",
       "  </tbody>\n",
       "</table>\n",
       "<p>5 rows × 1542 columns</p>\n",
       "</div>"
      ],
      "text/plain": [
       "StockCode  10002  10120  10125  10135  11001  15036  15039  15044C  15056BL  \\\n",
       "InvoiceNo                                                                     \n",
       "536370         1      0      0      0      0      0      0       0        0   \n",
       "536852         0      0      0      0      0      0      0       0        0   \n",
       "536974         0      0      0      0      0      0      0       0        1   \n",
       "537065         0      0      0      0      0      0      0       0        0   \n",
       "537463         0      0      0      0      0      0      0       0        0   \n",
       "\n",
       "StockCode  15056N  ...  90030B  90030C  90031  90099  90184B  90184C  90201B  \\\n",
       "InvoiceNo          ...                                                         \n",
       "536370          0  ...       0       0      0      0       0       0       0   \n",
       "536852          0  ...       0       0      0      0       0       0       0   \n",
       "536974          0  ...       0       0      0      0       0       0       0   \n",
       "537065          0  ...       0       0      0      0       0       0       0   \n",
       "537463          0  ...       0       0      0      0       0       0       0   \n",
       "\n",
       "StockCode  90201C  C2  M  \n",
       "InvoiceNo                 \n",
       "536370          0   0  0  \n",
       "536852          0   0  0  \n",
       "536974          0   0  0  \n",
       "537065          0   0  0  \n",
       "537463          0   0  0  \n",
       "\n",
       "[5 rows x 1542 columns]"
      ]
     },
     "execution_count": 29,
     "metadata": {},
     "output_type": "execute_result"
    }
   ],
   "source": [
    "basket_france = basket_france.applymap(encode_units)\n",
    "basket_france.head()"
   ]
  },
  {
   "cell_type": "code",
   "execution_count": 30,
   "metadata": {
    "slideshow": {
     "slide_type": "fragment"
    }
   },
   "outputs": [
    {
     "data": {
      "text/html": [
       "<div>\n",
       "<style scoped>\n",
       "    .dataframe tbody tr th:only-of-type {\n",
       "        vertical-align: middle;\n",
       "    }\n",
       "\n",
       "    .dataframe tbody tr th {\n",
       "        vertical-align: top;\n",
       "    }\n",
       "\n",
       "    .dataframe thead th {\n",
       "        text-align: right;\n",
       "    }\n",
       "</style>\n",
       "<table border=\"1\" class=\"dataframe\">\n",
       "  <thead>\n",
       "    <tr style=\"text-align: right;\">\n",
       "      <th></th>\n",
       "      <th>antecedents</th>\n",
       "      <th>consequents</th>\n",
       "      <th>antecedent support</th>\n",
       "      <th>consequent support</th>\n",
       "      <th>support</th>\n",
       "      <th>confidence</th>\n",
       "      <th>lift</th>\n",
       "      <th>leverage</th>\n",
       "      <th>conviction</th>\n",
       "    </tr>\n",
       "  </thead>\n",
       "  <tbody>\n",
       "    <tr>\n",
       "      <th>37</th>\n",
       "      <td>(21080, 21086)</td>\n",
       "      <td>(21094)</td>\n",
       "      <td>0.089286</td>\n",
       "      <td>0.111607</td>\n",
       "      <td>0.087054</td>\n",
       "      <td>0.975000</td>\n",
       "      <td>8.736000</td>\n",
       "      <td>0.077089</td>\n",
       "      <td>35.535714</td>\n",
       "    </tr>\n",
       "    <tr>\n",
       "      <th>36</th>\n",
       "      <td>(21080, 21094)</td>\n",
       "      <td>(21086)</td>\n",
       "      <td>0.089286</td>\n",
       "      <td>0.120536</td>\n",
       "      <td>0.087054</td>\n",
       "      <td>0.975000</td>\n",
       "      <td>8.088889</td>\n",
       "      <td>0.076291</td>\n",
       "      <td>35.178571</td>\n",
       "    </tr>\n",
       "    <tr>\n",
       "      <th>10</th>\n",
       "      <td>(21094)</td>\n",
       "      <td>(21086)</td>\n",
       "      <td>0.111607</td>\n",
       "      <td>0.120536</td>\n",
       "      <td>0.107143</td>\n",
       "      <td>0.960000</td>\n",
       "      <td>7.964444</td>\n",
       "      <td>0.093690</td>\n",
       "      <td>21.986607</td>\n",
       "    </tr>\n",
       "    <tr>\n",
       "      <th>35</th>\n",
       "      <td>(23256)</td>\n",
       "      <td>(23254)</td>\n",
       "      <td>0.060268</td>\n",
       "      <td>0.062500</td>\n",
       "      <td>0.055804</td>\n",
       "      <td>0.925926</td>\n",
       "      <td>14.814815</td>\n",
       "      <td>0.052037</td>\n",
       "      <td>12.656250</td>\n",
       "    </tr>\n",
       "    <tr>\n",
       "      <th>34</th>\n",
       "      <td>(23254)</td>\n",
       "      <td>(23256)</td>\n",
       "      <td>0.062500</td>\n",
       "      <td>0.060268</td>\n",
       "      <td>0.055804</td>\n",
       "      <td>0.892857</td>\n",
       "      <td>14.814815</td>\n",
       "      <td>0.052037</td>\n",
       "      <td>8.770833</td>\n",
       "    </tr>\n",
       "  </tbody>\n",
       "</table>\n",
       "</div>"
      ],
      "text/plain": [
       "       antecedents consequents  antecedent support  consequent support  \\\n",
       "37  (21080, 21086)     (21094)            0.089286            0.111607   \n",
       "36  (21080, 21094)     (21086)            0.089286            0.120536   \n",
       "10         (21094)     (21086)            0.111607            0.120536   \n",
       "35         (23256)     (23254)            0.060268            0.062500   \n",
       "34         (23254)     (23256)            0.062500            0.060268   \n",
       "\n",
       "     support  confidence       lift  leverage  conviction  \n",
       "37  0.087054    0.975000   8.736000  0.077089   35.535714  \n",
       "36  0.087054    0.975000   8.088889  0.076291   35.178571  \n",
       "10  0.107143    0.960000   7.964444  0.093690   21.986607  \n",
       "35  0.055804    0.925926  14.814815  0.052037   12.656250  \n",
       "34  0.055804    0.892857  14.814815  0.052037    8.770833  "
      ]
     },
     "execution_count": 30,
     "metadata": {},
     "output_type": "execute_result"
    }
   ],
   "source": [
    "frq_items = apriori(basket_france, min_support = 0.05, use_colnames = True)\n",
    "rules = association_rules(frq_items, metric =\"lift\", min_threshold = 1)\n",
    "rules = rules.sort_values(['confidence', 'lift'], ascending =[False, False])\n",
    "rules.head()"
   ]
  },
  {
   "cell_type": "code",
   "execution_count": null,
   "metadata": {},
   "outputs": [],
   "source": []
  },
  {
   "cell_type": "markdown",
   "metadata": {
    "slideshow": {
     "slide_type": "slide"
    }
   },
   "source": [
    "## Goals KTN"
   ]
  },
  {
   "cell_type": "markdown",
   "metadata": {
    "slideshow": {
     "slide_type": "slide"
    }
   },
   "source": []
  }
 ],
 "metadata": {
  "celltoolbar": "Diavoorstelling",
  "kernelspec": {
   "display_name": "Python 3",
   "language": "python",
   "name": "python3"
  },
  "language_info": {
   "codemirror_mode": {
    "name": "ipython",
    "version": 3
   },
   "file_extension": ".py",
   "mimetype": "text/x-python",
   "name": "python",
   "nbconvert_exporter": "python",
   "pygments_lexer": "ipython3",
   "version": "3.7.7"
  },
  "varInspector": {
   "cols": {
    "lenName": 16,
    "lenType": 16,
    "lenVar": 40
   },
   "kernels_config": {
    "python": {
     "delete_cmd_postfix": "",
     "delete_cmd_prefix": "del ",
     "library": "var_list.py",
     "varRefreshCmd": "print(var_dic_list())"
    },
    "r": {
     "delete_cmd_postfix": ") ",
     "delete_cmd_prefix": "rm(",
     "library": "var_list.r",
     "varRefreshCmd": "cat(var_dic_list()) "
    }
   },
   "types_to_exclude": [
    "module",
    "function",
    "builtin_function_or_method",
    "instance",
    "_Feature"
   ],
   "window_display": false
  }
 },
 "nbformat": 4,
 "nbformat_minor": 4
}
